{
 "cells": [
  {
   "cell_type": "code",
   "execution_count": 1,
   "id": "f03cd88f",
   "metadata": {},
   "outputs": [],
   "source": [
    "import numpy as np"
   ]
  },
  {
   "cell_type": "code",
   "execution_count": 2,
   "id": "d19d7511",
   "metadata": {},
   "outputs": [],
   "source": [
    "d1 = np.array([1,2,3,9,10,11])\n",
    "d2 = np.array([0,1,7,8,8,9])\n",
    "d3 = np.array([5,5,6,6,7,7])\n",
    "d4 = np.array([3,4,4,5,11,12])"
   ]
  },
  {
   "cell_type": "code",
   "execution_count": null,
   "id": "0b1aed42",
   "metadata": {},
   "outputs": [],
   "source": []
  }
 ],
 "metadata": {
  "kernelspec": {
   "display_name": "Python 3",
   "language": "python",
   "name": "python3"
  },
  "language_info": {
   "codemirror_mode": {
    "name": "ipython",
    "version": 3
   },
   "file_extension": ".py",
   "mimetype": "text/x-python",
   "name": "python",
   "nbconvert_exporter": "python",
   "pygments_lexer": "ipython3",
   "version": "3.6.9"
  }
 },
 "nbformat": 4,
 "nbformat_minor": 5
}
