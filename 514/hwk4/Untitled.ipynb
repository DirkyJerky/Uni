{
 "cells": [
  {
   "cell_type": "code",
   "execution_count": 8,
   "id": "de7f797e",
   "metadata": {},
   "outputs": [],
   "source": [
    "# Starting code for HW 2. Add to this!\n",
    "import numpy as np\n",
    "\n",
    "# Function definitions:\n",
    "f = lambda x: np.sin(np.e**x)\n",
    "\n",
    "# Statics\n",
    "x0 = 0\n",
    "xn = 2\n",
    "\n",
    "def go(n):\n",
    "    xs = np.linspace(0,2,n+1)\n",
    "\n",
    "    coeffs = np.full_like(xs,2)  # [2,2,...,2,2]\n",
    "    coeffs[0] = 1  # [1,2,...,2,2]\n",
    "    coeffs[-1] = 1  # [1,2,...,2,1]\n",
    "\n",
    "    h2 = (xn-x0)/(2.0*n)   # h/2\n",
    "\n",
    "    return h2 * np.dot(f(xs), coeffs) # = (h/2) * (f_0 + 2f_1 + 2f_2 + ... + 2f_(n-1) + f_n)"
   ]
  },
  {
   "cell_type": "code",
   "execution_count": 9,
   "id": "eb4d224d",
   "metadata": {},
   "outputs": [
    {
     "name": "stdout",
     "output_type": "stream",
     "text": [
      "0.553291387475\n"
     ]
    }
   ],
   "source": [
    "h10 = go(20); print(h10)"
   ]
  },
  {
   "cell_type": "code",
   "execution_count": 10,
   "id": "00bec7bb",
   "metadata": {},
   "outputs": [
    {
     "name": "stdout",
     "output_type": "stream",
     "text": [
      "0.55151561097\n"
     ]
    }
   ],
   "source": [
    "h20 = go(40); print(h20)"
   ]
  },
  {
   "cell_type": "code",
   "execution_count": 11,
   "id": "277d50b7",
   "metadata": {},
   "outputs": [
    {
     "name": "stdout",
     "output_type": "stream",
     "text": [
      "0.551079756053\n"
     ]
    }
   ],
   "source": [
    "h40 = go(80); print(h40)"
   ]
  },
  {
   "cell_type": "code",
   "execution_count": 12,
   "id": "477bbf6a",
   "metadata": {},
   "outputs": [
    {
     "data": {
      "text/plain": [
       "4.0742376269905236"
      ]
     },
     "execution_count": 12,
     "metadata": {},
     "output_type": "execute_result"
    }
   ],
   "source": [
    "(h10 - h20)/(h20 - h40) # = R"
   ]
  },
  {
   "cell_type": "code",
   "execution_count": null,
   "id": "ab969b43",
   "metadata": {},
   "outputs": [],
   "source": []
  }
 ],
 "metadata": {
  "kernelspec": {
   "display_name": "Python 3.8.0 64-bit",
   "language": "python",
   "name": "python38064bit1116672182664a7bac758519cdc3fc68"
  },
  "language_info": {
   "codemirror_mode": {
    "name": "ipython",
    "version": 2
   },
   "file_extension": ".py",
   "mimetype": "text/x-python",
   "name": "python",
   "nbconvert_exporter": "python",
   "pygments_lexer": "ipython2",
   "version": "2.7.15+"
  }
 },
 "nbformat": 4,
 "nbformat_minor": 5
}
