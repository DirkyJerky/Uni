{
 "cells": [
  {
   "cell_type": "code",
   "execution_count": 31,
   "id": "8c82693e",
   "metadata": {},
   "outputs": [],
   "source": [
    "import numpy as np\n",
    "\n",
    "# Function definitions:\n",
    "f = lambda x: np.sin(np.e**x)\n",
    "\n",
    "# Statics\n",
    "x0 = 0\n",
    "xn = 2\n",
    "\n",
    "def go(n):\n",
    "    assert(n%2 == 0)\n",
    "    xs = np.linspace(0,2,n+1)\n",
    "\n",
    "    coeffs = np.full_like(xs,4)  # [4,4,4,4,4,...,4,4,4,4,4]\n",
    "    coeffs[::2] = 2  # [2,4,2,4,2,...,2,4,2,4,2]\n",
    "    coeffs[0] = 1  # [1,4,2,4,2,...,2,4,2,4,2]\n",
    "    coeffs[-1] = 1  # [1,4,2,4,2,...,2,4,2,4,1]\n",
    "\n",
    "    h3 = (xn-x0)/(3.0*n)   # h/3\n",
    "\n",
    "    return h3 * np.dot(f(xs), coeffs) # = (h/3) * (f_0 + 4f_1 + 2f_2 + ... + 4f_(n-1) + f_n)"
   ]
  },
  {
   "cell_type": "code",
   "execution_count": 32,
   "id": "8b43954e",
   "metadata": {},
   "outputs": [
    {
     "name": "stdout",
     "output_type": "stream",
     "text": [
      "0.550735161974\n"
     ]
    }
   ],
   "source": [
    "h10 = go(20); print(h10)"
   ]
  },
  {
   "cell_type": "code",
   "execution_count": 33,
   "id": "5f2a535b",
   "metadata": {},
   "outputs": [
    {
     "name": "stdout",
     "output_type": "stream",
     "text": [
      "0.550923685469\n"
     ]
    }
   ],
   "source": [
    "h20 = go(40); print(h20)"
   ]
  },
  {
   "cell_type": "code",
   "execution_count": 34,
   "id": "d4f251bc",
   "metadata": {},
   "outputs": [
    {
     "name": "stdout",
     "output_type": "stream",
     "text": [
      "0.55093447108\n"
     ]
    }
   ],
   "source": [
    "h40 = go(80); print(h40)"
   ]
  },
  {
   "cell_type": "code",
   "execution_count": 35,
   "id": "9b115148",
   "metadata": {},
   "outputs": [
    {
     "data": {
      "text/plain": [
       "17.479165899785983"
      ]
     },
     "execution_count": 35,
     "metadata": {},
     "output_type": "execute_result"
    }
   ],
   "source": [
    "(h10 - h20)/(h20 - h40) # = R"
   ]
  }
 ],
 "metadata": {
  "kernelspec": {
   "display_name": "Python 3.8.0 64-bit",
   "language": "python",
   "name": "python38064bit1116672182664a7bac758519cdc3fc68"
  },
  "language_info": {
   "codemirror_mode": {
    "name": "ipython",
    "version": 2
   },
   "file_extension": ".py",
   "mimetype": "text/x-python",
   "name": "python",
   "nbconvert_exporter": "python",
   "pygments_lexer": "ipython2",
   "version": "2.7.15+"
  }
 },
 "nbformat": 4,
 "nbformat_minor": 5
}
