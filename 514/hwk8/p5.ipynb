{
 "cells": [
  {
   "cell_type": "code",
   "execution_count": 1,
   "id": "7afa564a",
   "metadata": {},
   "outputs": [],
   "source": [
    "import numpy as np\n",
    "\n",
    "beta = 0.5\n",
    "gamma = 0.25\n",
    "\n",
    "x0 = np.array([0.95, 0.05, 0])\n",
    "\n",
    "def f(x):\n",
    "    assert x.shape == (3,)\n",
    "    dS = -beta * x[0] * x[1]\n",
    "    dR = gamma * x[1]\n",
    "    dI = -dS - dR\n",
    "    return np.array([dS,dI,dR])\n",
    "\n",
    "def approxS(N):\n",
    "    x = x0.copy()\n",
    "    h = 40.0/N\n",
    "\n",
    "    for t in range(N):\n",
    "        xp = x + h * f(x)\n",
    "        x = x + (h/2) * (f(x) + f(xp))\n",
    "    \n",
    "    return x[0]"
   ]
  },
  {
   "cell_type": "code",
   "execution_count": 2,
   "id": "829a473e",
   "metadata": {},
   "outputs": [
    {
     "data": {
      "text/plain": [
       "3.9994652328054032"
      ]
     },
     "execution_count": 2,
     "metadata": {},
     "output_type": "execute_result"
    }
   ],
   "source": [
    "(approxS(4000) - approxS(8000))/((approxS(8000)) - approxS(16000))"
   ]
  }
 ],
 "metadata": {
  "kernelspec": {
   "display_name": "Python 3",
   "language": "python",
   "name": "python3"
  },
  "language_info": {
   "codemirror_mode": {
    "name": "ipython",
    "version": 3
   },
   "file_extension": ".py",
   "mimetype": "text/x-python",
   "name": "python",
   "nbconvert_exporter": "python",
   "pygments_lexer": "ipython3",
   "version": "3.6.9"
  }
 },
 "nbformat": 4,
 "nbformat_minor": 5
}
