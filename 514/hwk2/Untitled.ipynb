{
 "cells": [
  {
   "cell_type": "code",
   "execution_count": 6,
   "id": "2d9a01a4",
   "metadata": {},
   "outputs": [
    {
     "name": "stdout",
     "output_type": "stream",
     "text": [
      "x_0 = [1.04234245 0.5       ]\n",
      "x_1 = [0.88506705 0.46782438]\n",
      "x_2 = [0.88967988 0.46406975]\n",
      "x_3 = [0.88966788 0.46406846]\n",
      "x_4 = [0.88966788 0.46406846]\n",
      "\n",
      "Done in 5 iterations\n",
      "x1 = 0.8896678783754446\n",
      "x2 = 0.46406845931401863\n"
     ]
    }
   ],
   "source": [
    "import numpy as np\n",
    "import scipy.linalg as linalg\n",
    "\n",
    "tol = 1e-12 # tolerance\n",
    "\n",
    "# Function definitions:\n",
    "f1 = lambda x: np.cos(x[0] + x[1]) - x[1]**2\n",
    "f2 = lambda x: np.sin(x[0] - x[1]) - x[0]*x[1]\n",
    "f = lambda x: (f1(x), f2(x))\n",
    "\n",
    "# Partials\n",
    "f1d1 = lambda x : -np.sin(x[0] + x[1])\n",
    "f1d2 = lambda x : -np.sin(x[0] + x[1]) - 2*x[1]\n",
    "f2d1 = lambda x:  np.cos(x[0] - x[1]) - x[1]\n",
    "f2d2 = lambda x: -np.cos(x[0] - x[1]) - x[0]\n",
    "    \n",
    "xk = np.array([1,1]) # Initial guess x_k\n",
    "\n",
    "residuals = [np.abs(f(xk))]\n",
    "\n",
    "itnum = 0 # iteration counter\n",
    "success = True # Assume success unless we fail!\n",
    "\n",
    "while linalg.norm(f(xk))>tol:\n",
    "    A = np.array([[f1d1(xk), f1d2(xk)],[f2d1(xk), f2d2(xk)]])\n",
    "    xk = xk - np.matmul(linalg.inv(A), f(xk))\n",
    "    \t\n",
    "    print(f\"x_{itnum} = {xk}\")\n",
    "    itnum += 1\n",
    "    residuals.append(linalg.norm(f(xk)))\n",
    "\n",
    "    if itnum>10000:\n",
    "        print('Something is wrong, too many iterations, let\\'s break out of this loop...!')\n",
    "        success = False\n",
    "        break\n",
    "\n",
    "\n",
    "if success:\n",
    "    # Plotting using matplotlib, imported at the top of the code.\n",
    "    print()\n",
    "    print(f\"Done in {itnum} iterations\")\n",
    "    print(f\"x1 = {xk[0]}\")\n",
    "    print(f\"x2 = {xk[1]}\")\n"
   ]
  },
  {
   "cell_type": "code",
   "execution_count": null,
   "id": "3b7b2b84",
   "metadata": {},
   "outputs": [],
   "source": []
  }
 ],
 "metadata": {
  "kernelspec": {
   "display_name": "Python 3",
   "language": "python",
   "name": "python3"
  },
  "language_info": {
   "codemirror_mode": {
    "name": "ipython",
    "version": 3
   },
   "file_extension": ".py",
   "mimetype": "text/x-python",
   "name": "python",
   "nbconvert_exporter": "python",
   "pygments_lexer": "ipython3",
   "version": "3.6.9"
  }
 },
 "nbformat": 4,
 "nbformat_minor": 5
}
