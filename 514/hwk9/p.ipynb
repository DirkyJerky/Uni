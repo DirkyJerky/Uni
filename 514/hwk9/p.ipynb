{
 "cells": [
  {
   "cell_type": "code",
   "execution_count": 1,
   "id": "3efde121",
   "metadata": {},
   "outputs": [],
   "source": [
    "import numpy as np\n",
    "from matplotlib import pyplot as plt"
   ]
  },
  {
   "cell_type": "code",
   "execution_count": 2,
   "id": "ddf8263e",
   "metadata": {},
   "outputs": [],
   "source": [
    "def forward_euler(f, y0, T, N):\n",
    "    # f(t_n, y_n) -> y'_n\n",
    "    # y0 = Initial value\n",
    "    # T = Final value of t, t varies from 0 to T inclusive\n",
    "    # N = number of steps\n",
    "    y = np.array(y0, dtype=float)\n",
    "    h = float(T)/N\n",
    "    ts = np.linspace(0, T, N+1)\n",
    "\n",
    "    out = np.empty(shape=(N+1,y.shape[0]), dtype=float)\n",
    "\n",
    "    for i, t in enumerate(ts[:-1]):\n",
    "        out[i] = y\n",
    "        y += h * f(t, y)\n",
    "    \n",
    "    out[N] = y\n",
    "\n",
    "    return out\n",
    "\n",
    "def improved_euler(f, y0, T, N):\n",
    "    # f(t_n, y_n) -> y'_n\n",
    "    # y0 = Initial value\n",
    "    # T = Final value of t, t varies from 0 to T inclusive\n",
    "    # N = number of steps\n",
    "    y = np.array(y0, dtype=float)\n",
    "    h = float(T)/N\n",
    "    ts = np.linspace(0, T, N+1)\n",
    "\n",
    "    out = np.empty(shape=(N+1,y.shape[0]), dtype=float)\n",
    "\n",
    "    for i, t in enumerate(ts[:-1]):\n",
    "        out[i] = y\n",
    "        yp = y + h * f(t, y)\n",
    "        y += (h/2) * (f(t, y) + f(t+h, yp))\n",
    "    \n",
    "    out[N] = y\n",
    "\n",
    "    return out"
   ]
  },
  {
   "cell_type": "code",
   "execution_count": 3,
   "id": "a22574dd",
   "metadata": {},
   "outputs": [
    {
     "name": "stdout",
     "output_type": "stream",
     "text": [
      "Step size N = 743325 returns y_N = 2.7182800000001017\n"
     ]
    }
   ],
   "source": [
    "# 1\n",
    "\n",
    "f = lambda t,y: y\n",
    "y0 = [1]\n",
    "T = 1\n",
    "\n",
    "# Do binary search over N in [1..1000000]\n",
    "low = 1\n",
    "high = 1000000\n",
    "\n",
    "best = None\n",
    "\n",
    "while low != high:\n",
    "    mid = int((low+high+1)/2)\n",
    "\n",
    "    arr = forward_euler(f, y0, T, mid)\n",
    "    approx = arr[mid,0]\n",
    "    if str(approx)[:7] == '2.71828':\n",
    "        high = mid - 1\n",
    "        best = approx\n",
    "    else:\n",
    "        low = mid\n",
    "    \n",
    "print(f'Step size N = {low+1} returns y_N = {best}')"
   ]
  },
  {
   "cell_type": "code",
   "execution_count": 4,
   "id": "e5d83a0a",
   "metadata": {},
   "outputs": [
    {
     "name": "stdout",
     "output_type": "stream",
     "text": [
      "Step size N = 498 returns y_N = 2.7182800044357713\n"
     ]
    }
   ],
   "source": [
    "# 2\n",
    "\n",
    "f = lambda t,y: y\n",
    "y0 = [1]\n",
    "T = 1\n",
    "\n",
    "# Do binary search over N in [1..1000]\n",
    "low = 1\n",
    "high = 1000\n",
    "\n",
    "best = None\n",
    "\n",
    "while low != high:\n",
    "    mid = int((low+high+1)/2)\n",
    "\n",
    "    arr = improved_euler(f, y0, T, mid)\n",
    "    approx = arr[mid,0]\n",
    "    if str(approx)[:7] == '2.71828':\n",
    "        high = mid - 1\n",
    "        best = approx\n",
    "    else:\n",
    "        low = mid\n",
    "\n",
    "print(f'Step size N = {low+1} returns y_N = {best}')"
   ]
  },
  {
   "cell_type": "code",
   "execution_count": 5,
   "id": "7100f51c",
   "metadata": {},
   "outputs": [
    {
     "name": "stdout",
     "output_type": "stream",
     "text": [
      "R = 4.050960539872863\n"
     ]
    }
   ],
   "source": [
    "# 3a\n",
    "\n",
    "def f(t,ys):\n",
    "    a = 0.024\n",
    "    g = 9.8\n",
    "\n",
    "    u = ys[2]\n",
    "    v = ys[3]\n",
    "    vnorm = np.sqrt(u**2 + v**2)\n",
    "\n",
    "    return np.array([u, v, -a*vnorm*u, -g-a*vnorm*v])\n",
    "\n",
    "vel = np.sqrt(25.0**2 / 2)\n",
    "y0 = np.array([0.,0.,vel,vel])\n",
    "T = 2\n",
    "\n",
    "N = 100\n",
    "\n",
    "R_N = improved_euler(f, y0, T, N)[N,0]\n",
    "R_2N = improved_euler(f, y0, T, 2*N)[2*N,0]\n",
    "R_4N = improved_euler(f, y0, T, 4*N)[4*N,0]\n",
    "\n",
    "print(f'R = {(R_N - R_2N) / (R_2N - R_4N)}')"
   ]
  },
  {
   "cell_type": "code",
   "execution_count": 6,
   "id": "f2c35734",
   "metadata": {},
   "outputs": [],
   "source": [
    "# 3b\n",
    "\n",
    "def improved_euler_break(f, y0, T, N):\n",
    "    # f(t_n, y_n) -> y'_n\n",
    "    # y0 = Initial value\n",
    "    # T = Final value of t, t varies from 0 to T inclusive\n",
    "    # N = number of steps\n",
    "    y = np.array(y0, dtype=float)\n",
    "    h = float(T)/N\n",
    "    ts = np.linspace(0, T, N+1)\n",
    "\n",
    "    out = np.empty(shape=(N+1,y.shape[0]), dtype=float)\n",
    "\n",
    "    for i, t in enumerate(ts[:-1]):\n",
    "        out[i] = y\n",
    "        yp = y + h * f(t, y)\n",
    "        y += (h/2) * (f(t, y) + f(t+h, yp))\n",
    "        if (y[1] < 0):                 \n",
    "            return out[:i,:] # Break out by returning the truncated array\n",
    "\n",
    "    return out"
   ]
  },
  {
   "cell_type": "code",
   "execution_count": 7,
   "id": "98b51e44",
   "metadata": {},
   "outputs": [
    {
     "data": {
      "image/png": "[encoded data removed]",
      "text/plain": [
       "<Figure size 432x288 with 1 Axes>"
      ]
     },
     "metadata": {
      "needs_background": "light"
     },
     "output_type": "display_data"
    },
    {
     "name": "stdout",
     "output_type": "stream",
     "text": [
      "Max height for Drag = 10.373 meters\n",
      "Max height for No drag = 15.944 meters\n",
      "Distance to impact for Drag = 31.465 meters\n",
      "Distance to impact for No drag = 63.774 meters\n"
     ]
    }
   ],
   "source": [
    "# 3cde\n",
    "\n",
    "def fc(t,ys):\n",
    "    a = 0.024\n",
    "    g = 9.8\n",
    "\n",
    "    u = ys[2]\n",
    "    v = ys[3]\n",
    "    vnorm = np.sqrt(u**2 + v**2)\n",
    "\n",
    "    return np.array([u, v, -a*vnorm*u, -g-a*vnorm*v])\n",
    "\n",
    "\n",
    "def fd(t,ys):\n",
    "    a = 0\n",
    "    g = 9.8\n",
    "\n",
    "    u = ys[2]\n",
    "    v = ys[3]\n",
    "    vnorm = np.sqrt(u**2 + v**2)\n",
    "\n",
    "    return np.array([u, v, -a*vnorm*u, -g-a*vnorm*v])\n",
    "\n",
    "vel = np.sqrt(25.0**2 / 2)\n",
    "y0 = np.array([0.,0.,vel,vel])\n",
    "T = 5\n",
    "\n",
    "arr_c = improved_euler_break(fc, y0, T, 100000)\n",
    "arr_d = improved_euler_break(fd, y0, T, 100000)\n",
    "\n",
    "plt.figure()\n",
    "plt.gca().set_aspect('equal', adjustable='box')\n",
    "plt.plot(arr_c[:,0], arr_c[:,1], '-', label=\"Drag\")\n",
    "plt.plot(arr_d[:,0], arr_d[:,1], '--', label=\"No drag\")\n",
    "plt.legend()\n",
    "plt.xlabel(\"x (meters)\")\n",
    "plt.ylabel(\"y (meters)\")\n",
    "plt.title(\"Soccer ball trajectory\")\n",
    "plt.show()\n",
    "\n",
    "print(f'Max height for Drag = {np.max(arr_c[:,1]):.3f} meters')\n",
    "print(f'Max height for No drag = {np.max(arr_d[:,1]):.3f} meters')\n",
    "print(f'Distance to impact for Drag = {arr_c[-1,0]:.3f} meters')\n",
    "print(f'Distance to impact for No drag = {arr_d[-1,0]:.3f} meters')"
   ]
  },
  {
   "cell_type": "code",
   "execution_count": 8,
   "id": "f177abe1",
   "metadata": {},
   "outputs": [
    {
     "data": {
      "image/png": "[encoded data removed]",
      "text/plain": [
       "<Figure size 432x288 with 1 Axes>"
      ]
     },
     "metadata": {
      "needs_background": "light"
     },
     "output_type": "display_data"
    },
    {
     "data": {
      "image/png": "[encoded data removed]",
      "text/plain": [
       "<Figure size 432x288 with 1 Axes>"
      ]
     },
     "metadata": {
      "needs_background": "light"
     },
     "output_type": "display_data"
    }
   ],
   "source": [
    "# 3f\n",
    "\n",
    "def improved_euler_bounce(f, y0, T, N):\n",
    "    # f(t_n, y_n) -> y'_n\n",
    "    # y0 = Initial value\n",
    "    # T = Final value of t, t varies from 0 to T inclusive\n",
    "    # N = number of steps\n",
    "    y = np.array(y0, dtype=float)\n",
    "    h = float(T)/N\n",
    "    ts = np.linspace(0, T, N+1)\n",
    "\n",
    "    out = np.empty(shape=(N+1,y.shape[0]), dtype=float)\n",
    "\n",
    "    for i, t in enumerate(ts[:-1]):\n",
    "        out[i] = y\n",
    "        yp = y + h * f(t, y)\n",
    "        y += (h/2) * (f(t, y) + f(t+h, yp))\n",
    "        if (y[1] < 0):\n",
    "            y[3] = -y[3]\n",
    "    \n",
    "    out[N] = y\n",
    "\n",
    "    return out\n",
    "\n",
    "def f(t,ys):\n",
    "    a = 0.024\n",
    "    g = 9.8\n",
    "\n",
    "    u = ys[2]\n",
    "    v = ys[3]\n",
    "    vnorm = np.sqrt(u**2 + v**2)\n",
    "\n",
    "    return np.array([u, v, -a*vnorm*u, -g-a*vnorm*v])\n",
    "\n",
    "vel = np.sqrt(25.0**2 / 2)\n",
    "y0 = np.array([0.,0.,vel,vel])\n",
    "T = 20\n",
    "N = 100000\n",
    "\n",
    "arr = improved_euler_bounce(f, y0, T, N)\n",
    "\n",
    "plt.figure()\n",
    "plt.gca().set_aspect('equal', adjustable='box')\n",
    "plt.plot(arr[:,0], arr[:,1], '-')\n",
    "plt.xlabel(\"x (meters)\")\n",
    "plt.ylabel(\"y (meters)\")\n",
    "plt.title(\"Ball with bounces\")\n",
    "plt.show()\n",
    "\n",
    "# Kinetic\n",
    "xs = np.linspace(0,T,N+1)\n",
    "ys = np.apply_along_axis(lambda y: (y[2]**2 + y[3]**2)/2.0, 1, arr)\n",
    "\n",
    "plt.figure()\n",
    "plt.plot(xs, ys, '-')\n",
    "plt.xlabel(\"t (seconds)\")\n",
    "plt.ylabel(\"Energy\")\n",
    "plt.title(\"Kinetic Energy over time\")\n",
    "plt.show()"
   ]
  },
  {
   "cell_type": "code",
   "execution_count": 9,
   "id": "93960580",
   "metadata": {},
   "outputs": [
    {
     "data": {
      "image/png": "[encoded data removed]",
      "text/plain": [
       "<Figure size 432x288 with 1 Axes>"
      ]
     },
     "metadata": {
      "needs_background": "light"
     },
     "output_type": "display_data"
    }
   ],
   "source": [
    "# 4a\n",
    "\n",
    "def f(t,ys):\n",
    "    return -100*ys[0]\n",
    "\n",
    "y0 = np.array([1])\n",
    "T = 1\n",
    "N = 40\n",
    "\n",
    "arr = forward_euler(f, y0, T, N)\n",
    "\n",
    "plt.figure()\n",
    "plt.plot(np.linspace(0,T,N+1), arr[:,0], '-')\n",
    "plt.xlabel(\"t\")\n",
    "plt.ylabel(\"y\")\n",
    "plt.title(\"Forward Euler\")\n",
    "plt.show()"
   ]
  },
  {
   "cell_type": "code",
   "execution_count": 10,
   "id": "b74a14a8",
   "metadata": {},
   "outputs": [
    {
     "data": {
      "image/png": "[encoded data removed]",
      "text/plain": [
       "<Figure size 432x288 with 1 Axes>"
      ]
     },
     "metadata": {
      "needs_background": "light"
     },
     "output_type": "display_data"
    }
   ],
   "source": [
    "# 4b\n",
    "\n",
    "T = 1\n",
    "N = 40\n",
    "\n",
    "arr = np.empty(shape=(41,))\n",
    "\n",
    "y = 1\n",
    "for i in range(N):\n",
    "    arr[i] = y\n",
    "    y *= (2/7)\n",
    "\n",
    "arr[N] = y\n",
    "\n",
    "plt.figure()\n",
    "plt.plot(np.linspace(0,T,N+1), arr, '-')\n",
    "plt.xlabel(\"t\")\n",
    "plt.ylabel(\"y\")\n",
    "plt.title(\"Backward Euler\")\n",
    "plt.show()"
   ]
  }
 ],
 "metadata": {
  "kernelspec": {
   "display_name": "Python 3",
   "language": "python",
   "name": "python3"
  },
  "language_info": {
   "codemirror_mode": {
    "name": "ipython",
    "version": 3
   },
   "file_extension": ".py",
   "mimetype": "text/x-python",
   "name": "python",
   "nbconvert_exporter": "python",
   "pygments_lexer": "ipython3",
   "version": "3.6.9"
  }
 },
 "nbformat": 4,
 "nbformat_minor": 5
}
